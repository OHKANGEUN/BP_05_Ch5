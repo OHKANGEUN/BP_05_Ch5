{
  "nbformat": 4,
  "nbformat_minor": 0,
  "metadata": {
    "colab": {
      "provenance": [],
      "authorship_tag": "ABX9TyO03NUAcf1cWB0ZgEYW1RmT",
      "include_colab_link": true
    },
    "kernelspec": {
      "name": "python3",
      "display_name": "Python 3"
    },
    "language_info": {
      "name": "python"
    }
  },
  "cells": [
    {
      "cell_type": "markdown",
      "metadata": {
        "id": "view-in-github",
        "colab_type": "text"
      },
      "source": [
        "<a href=\"https://colab.research.google.com/github/OHKANGEUN/BP_05_Ch5/blob/main/Untitled4.ipynb\" target=\"_parent\"><img src=\"https://colab.research.google.com/assets/colab-badge.svg\" alt=\"Open In Colab\"/></a>"
      ]
    },
    {
      "cell_type": "code",
      "execution_count": null,
      "metadata": {
        "id": "5MRKXTT_dFme"
      },
      "outputs": [],
      "source": [
        "1.다음 프로그램의 출력은 무엇인가"
      ]
    },
    {
      "cell_type": "code",
      "source": [
        "age=20\n",
        "if age<20:\n",
        "  print('20살 미만')\n",
        "else:\n",
        "  print('20살 이상')"
      ],
      "metadata": {
        "colab": {
          "base_uri": "https://localhost:8080/"
        },
        "id": "oIxhKn0RgDUi",
        "outputId": "93005879-440e-4fe6-8db8-a73001cbdc94"
      },
      "execution_count": 1,
      "outputs": [
        {
          "output_type": "stream",
          "name": "stdout",
          "text": [
            "20살 이상\n"
          ]
        }
      ]
    },
    {
      "cell_type": "markdown",
      "source": [
        "2.1번문제에서 age가 30이상이고 50이하인것을 체크하려면 어떻게 하여야 하는가"
      ],
      "metadata": {
        "id": "6LoZCEfrgf_5"
      }
    },
    {
      "cell_type": "code",
      "source": [
        "age=20\n",
        "if age >=30 and age <= 50:\n",
        "  print('30살 이상이고 50살 이하')"
      ],
      "metadata": {
        "id": "9ADvS5pegqA3"
      },
      "execution_count": 4,
      "outputs": []
    },
    {
      "cell_type": "markdown",
      "source": [
        "3.사용자에게 현재 온도를 질문하고 온도가 25도 이상이면 반바지를 추천하고 25도 미만이면 긴바지를 추천하는 프로그램을 작성해보자."
      ],
      "metadata": {
        "id": "PJ35V0DthE0m"
      }
    },
    {
      "cell_type": "code",
      "source": [
        "temp=int(input(\"현재 온도롤 입력하시오:\"))\n",
        "\n",
        "if temp>=25:\n",
        "  print(\"반바지를 입으세요\")\n",
        "else:\n",
        "  print(\"긴바지를 입으세요\")"
      ],
      "metadata": {
        "colab": {
          "base_uri": "https://localhost:8080/"
        },
        "id": "TzW4EMhThZLT",
        "outputId": "14a3d417-a5d1-4fd1-abf8-913977580284"
      },
      "execution_count": 5,
      "outputs": [
        {
          "output_type": "stream",
          "name": "stdout",
          "text": [
            "현재 온도롤 입력하시오:10\n",
            "긴바지를 입으세요\n"
          ]
        }
      ]
    },
    {
      "cell_type": "markdown",
      "source": [
        "4.학생의 시험점수를 물어보고 시험점수가 90점이상이면a,80점 이상이면b,70점 이상이면 c,60점 이상이면d,그외의 점수이면 f학점을 주는 프로그램을 작성하라."
      ],
      "metadata": {
        "id": "y_dedwuKh79W"
      }
    },
    {
      "cell_type": "code",
      "source": [
        "score=int(input(\"성적을 입력하시오:\"))\n",
        "\n",
        "if score >= 90:\n",
        "  print(\"A학점입니다.\")\n",
        "elif score >= 80:\n",
        "  print(\"B학점입니다.\")\n",
        "elif score >= 70:\n",
        "  print(\"C학점입니다.\")\n",
        "elif score >= 60:\n",
        "  print(\"D학점입니다.\")\n",
        "else :\n",
        "  print(\"F학점입니다.\")\n",
        " \n"
      ],
      "metadata": {
        "colab": {
          "base_uri": "https://localhost:8080/"
        },
        "id": "EbweUmzRiNiX",
        "outputId": "8fbbdc77-e549-4ab1-f3cd-53943ed2bbe4"
      },
      "execution_count": 6,
      "outputs": [
        {
          "output_type": "stream",
          "name": "stdout",
          "text": [
            "성적을 입력하시오:99\n",
            "A학점입니다.\n"
          ]
        }
      ]
    },
    {
      "cell_type": "markdown",
      "source": [
        "5.난수를 사용해 1부터100사이의 숫자를 사용하는 뺼샘 문제를 생성하고 사용자에게 물어본 후에 사용자의 답변이 올바른지를 검사하는 프로그램을 작성하라"
      ],
      "metadata": {
        "id": "aH6lIq6SjOuC"
      }
    },
    {
      "cell_type": "code",
      "source": [
        "import random\n",
        "x = random.randint(1, 100)\n",
        "y = random.randint(1, 100)\n",
        "\n",
        "ans=int(input(str(x)+\"-\"+str(y)+\"=\"))\n",
        "\n",
        "if ans == x-y:\n",
        "  print(\"맞았습니다.\")\n",
        "else:\n",
        "  print(\"틀렸습니다.\")"
      ],
      "metadata": {
        "colab": {
          "base_uri": "https://localhost:8080/"
        },
        "id": "adXLePwajezi",
        "outputId": "87c857f8-9973-4978-b536-caa7e7213e31"
      },
      "execution_count": 7,
      "outputs": [
        {
          "output_type": "stream",
          "name": "stdout",
          "text": [
            "67-20=47\n",
            "맞았습니다.\n"
          ]
        }
      ]
    },
    {
      "cell_type": "markdown",
      "source": [
        "6.사용자로부텉 정수를 받아서 이 정수가 2와3으로 나누어떨어질수 있는지를 출력하라"
      ],
      "metadata": {
        "id": "SQIzlI7EkRZw"
      }
    },
    {
      "cell_type": "code",
      "source": [
        "n=int(input(\"정수를 입력하시오:\"))\n",
        "\n",
        "if n%2==0 and n%3==0:\n",
        "  print(\"2와 3으로 나누어 떨어집니다.\")\n",
        "else:\n",
        "  print(\"2와 3으로 나누어 떨어지지 않습니다.\")\n"
      ],
      "metadata": {
        "colab": {
          "base_uri": "https://localhost:8080/"
        },
        "id": "TP-Czp_VkaJo",
        "outputId": "62833a47-c772-44d1-d11d-6c0642e9c51a"
      },
      "execution_count": 8,
      "outputs": [
        {
          "output_type": "stream",
          "name": "stdout",
          "text": [
            "정수를 입력하시오:6\n",
            "2와 3으로 나누어 떨어집니다.\n"
          ]
        }
      ]
    },
    {
      "cell_type": "markdown",
      "source": [
        "7.2자리 숫자로 이루어진 복권이 있다. 사용자가 가지고 있는 복권번호가 2자리 모두일치하면 100만원을 받는다.2자리 중에서 하나만 일치하면 50만원을 받는다 .하나도 일치하지 않으면 상금을 업사.복권 당첨번호는 난수로 생성하고 사용자의 입력에 따라 상금이 얼마인지를 출력하는 프로그램을 작성하라."
      ],
      "metadata": {
        "id": "QZXBZsE_k3My"
      }
    },
    {
      "cell_type": "code",
      "source": [
        "import  random\n",
        "\n",
        "solution=random.randint(0, 99)\n",
        "\n",
        "user=int(input(\"복권번호를 입력하시오(0에서 99사이): \"))\n",
        "\n",
        "digit1=solution//10\n",
        "digit2=solution%10\n",
        "\n",
        "u_digit1=user//10\n",
        "u_digit2=user%10\n",
        "\n",
        "print(\"당첨번호는\",solution, \"입니다.\")"
      ],
      "metadata": {
        "colab": {
          "base_uri": "https://localhost:8080/"
        },
        "id": "9N9U1HoHlNuW",
        "outputId": "945ab17b-ba08-443f-b2b7-5fbd974006ed"
      },
      "execution_count": 10,
      "outputs": [
        {
          "output_type": "stream",
          "name": "stdout",
          "text": [
            "복권번호를 입력하시오(0에서 99사이): 67\n",
            "당첨번호는 79 입니다.\n"
          ]
        }
      ]
    }
  ]
}